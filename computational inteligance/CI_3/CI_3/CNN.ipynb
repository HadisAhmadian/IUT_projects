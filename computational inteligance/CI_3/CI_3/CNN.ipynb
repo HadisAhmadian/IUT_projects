{
 "cells": [
  {
   "cell_type": "markdown",
   "metadata": {},
   "source": [
    "# <center> Computational Intelligence Course </center>\n",
    "## <center> Homework 3-2: Neural Network</center>\n",
    "### <center>Authors: Sajede Nicknadaf, Hadis Ahamdian</center>"
   ]
  },
  {
   "cell_type": "markdown",
   "metadata": {},
   "source": [
    "### حل مساله با شبکه های کانوولوشنی\n",
    "طبق توضیحات قسمت قبل کتابخوانه های مورد نظر را استفاده و داده ها را نیز باز میکنیم"
   ]
  },
  {
   "cell_type": "code",
   "execution_count": 2,
   "metadata": {},
   "outputs": [],
   "source": [
    "import numpy as np\n",
    "import matplotlib.pyplot as plt\n",
    "import tensorflow as tf\n",
    "from tensorflow.keras import optimizers,layers,models\n",
    "%matplotlib inline"
   ]
  },
  {
   "cell_type": "markdown",
   "metadata": {},
   "source": [
    "Then, we load the dataset:"
   ]
  },
  {
   "cell_type": "code",
   "execution_count": 3,
   "metadata": {},
   "outputs": [],
   "source": [
    "def load_data(file_name):\n",
    "    npzfile = np.load(file_name)\n",
    "    \n",
    "\n",
    "    X_train = npzfile[\"inputs_train\"].T / 255.0\n",
    "    X_valid = npzfile[\"inputs_valid\"].T / 255.0\n",
    "    X_test = npzfile[\"inputs_test\"].T / 255.0\n",
    "    Y_train = npzfile[\"target_train\"].tolist()\n",
    "    Y_valid = npzfile[\"target_valid\"].tolist()\n",
    "    Y_test = npzfile[\"target_test\"].tolist()\n",
    "\n",
    "    num_class = max(Y_train + Y_valid + Y_test) + 1\n",
    "    Y_train_1hot = np.zeros([num_class, len(Y_train)])\n",
    "    Y_valid_1hot = np.zeros([num_class, len(Y_valid)])\n",
    "    Y_test_1hot = np.zeros([num_class, len(Y_test)])\n",
    "\n",
    "    for ii, xx in enumerate(Y_train):\n",
    "        Y_train_1hot[xx, ii] = 1.0\n",
    "\n",
    "    for ii, xx in enumerate(Y_valid):\n",
    "        Y_valid_1hot[xx, ii] = 1.0\n",
    "\n",
    "    for ii, xx in enumerate(Y_test):\n",
    "        Y_test_1hot[xx, ii] = 1.0\n",
    "\n",
    "    \n",
    "    return X_train.T, X_valid.T, X_test.T, Y_train_1hot.T, Y_valid_1hot.T, Y_test_1hot.T\n"
   ]
  },
  {
   "cell_type": "markdown",
   "metadata": {},
   "source": [
    "Run the next cell to load the dataset you are going to use."
   ]
  },
  {
   "cell_type": "code",
   "execution_count": 4,
   "metadata": {},
   "outputs": [],
   "source": [
    "X_train, X_valid, X_test, Y_train, Y_valid, Y_test = load_data(\"toronto_face.npz\")"
   ]
  },
  {
   "cell_type": "markdown",
   "metadata": {},
   "source": [
    "Now, take a look at an example of a labelled image in the dataset\n",
    "Feel free to change the value of index below and re-run to see different examples."
   ]
  },
  {
   "cell_type": "code",
   "execution_count": 5,
   "metadata": {},
   "outputs": [
    {
     "data": {
      "text/plain": [
       "<matplotlib.image.AxesImage at 0x7f15e2b75130>"
      ]
     },
     "execution_count": 5,
     "metadata": {},
     "output_type": "execute_result"
    },
    {
     "data": {
      "image/png": "[encoded data removed]",
      "text/plain": [
       "<Figure size 432x288 with 1 Axes>"
      ]
     },
     "execution_count": 5,
     "metadata": {
      "needs_background": "light"
     },
     "output_type": "execute_result"
    }
   ],
   "source": [
    "ix = 10;\n",
    "\n",
    "plt.figure(ix)\n",
    "plt.imshow(X_train[ix].reshape(48,48,1), interpolation='none', cmap='gray')\n",
    "\n"
   ]
  },
  {
   "cell_type": "markdown",
   "metadata": {},
   "source": [
    "From now implement your model.\n",
    "<br>\n",
    "Please add cells and explain yours developing steps and your results.\n",
    "\n",
    "<div dir='rtl'style=\"text-align: right;font-family:verdana;\">\n",
    "برای توضیحات از زبان فارسی استفاده نمایید.\n",
    "<br>\n",
    "موفق باشید\n",
    "\n",
    "</div>"
   ]
  },
  {
   "cell_type": "markdown",
   "metadata": {},
   "source": [
    "ابتدا لازم است فرم داده ها به فرم قابل قبولی برای توابعی که میخواهیم مورد استفاده قرار دهیم تبدیل شود. به این منظور  از \n",
    "\n",
    "reshape\n",
    "\n",
    "استفاده میکنیم و لیبیل ها نیز که به شکل\n",
    "\n",
    "one hot vector\n",
    "\n",
    "هستند را به فرم یک عدد که نماینده ی کلاس عکس است تبدیل میکنیم"
   ]
  },
  {
   "cell_type": "code",
   "execution_count": 6,
   "metadata": {},
   "outputs": [
    {
     "name": "stdout",
     "output_type": "stream",
     "text": [
      "(3374, 48, 48, 1)\n",
      "(3374,)\n",
      "(419, 48, 48, 1)\n",
      "(419,)\n",
      "(385, 48, 48, 1)\n",
      "(385,)\n"
     ]
    }
   ],
   "source": [
    "X_train = X_train.reshape(X_train.shape[0], 48, 48, 1)\n",
    "X_valid = X_valid.reshape(X_valid.shape[0], 48, 48, 1)    \n",
    "X_test = X_test.reshape(X_test.shape[0], 48, 48, 1)\n",
    "\n",
    "Y_valid=np.argmax(Y_valid, axis=1)\n",
    "Y_train=np.argmax(Y_train, axis=1)\n",
    "Y_test=np.argmax(Y_test, axis=1)\n",
    "\n",
    "print(X_train.shape)\n",
    "print(Y_train.shape)\n",
    "\n",
    "print(X_valid.shape)\n",
    "print(Y_valid.shape)\n",
    "\n",
    "print(X_test.shape)\n",
    "print(Y_test.shape)\n"
   ]
  },
  {
   "cell_type": "markdown",
   "metadata": {},
   "source": [
    "حال مدل خود را طراحی میکنیم، این مورد از میان آموزش ها و مقالات سایت تنسورفلو انتخاب شده . مدل را ساخته و لایه هایش را به آن اضافه میکنیم. در آخر یک سامری از مدل که تعداد فیلتر های استفاده شده و پارامترهای مدل در مرحله است را مشاهده مینکید"
   ]
  },
  {
   "cell_type": "code",
   "execution_count": 7,
   "metadata": {},
   "outputs": [
    {
     "name": "stdout",
     "output_type": "stream",
     "text": [
      "Model: \"sequential\"\n",
      "_________________________________________________________________\n",
      "Layer (type)                 Output Shape              Param #   \n",
      "=================================================================\n",
      "conv2d (Conv2D)              (None, 46, 46, 32)        320       \n",
      "_________________________________________________________________\n",
      "max_pooling2d (MaxPooling2D) (None, 23, 23, 32)        0         \n",
      "_________________________________________________________________\n",
      "conv2d_1 (Conv2D)            (None, 21, 21, 64)        18496     \n",
      "_________________________________________________________________\n",
      "max_pooling2d_1 (MaxPooling2 (None, 10, 10, 64)        0         \n",
      "_________________________________________________________________\n",
      "conv2d_2 (Conv2D)            (None, 8, 8, 64)          36928     \n",
      "_________________________________________________________________\n",
      "flatten (Flatten)            (None, 4096)              0         \n",
      "_________________________________________________________________\n",
      "dense (Dense)                (None, 64)                262208    \n",
      "_________________________________________________________________\n",
      "dense_1 (Dense)              (None, 7)                 455       \n",
      "=================================================================\n",
      "Total params: 318,407\n",
      "Trainable params: 318,407\n",
      "Non-trainable params: 0\n",
      "_________________________________________________________________\n"
     ]
    }
   ],
   "source": [
    "model = models.Sequential()\n",
    "model.add(layers.Conv2D(32, (3, 3), activation='relu', input_shape=(48, 48, 1)))\n",
    "model.add(layers.MaxPooling2D((2, 2)))\n",
    "model.add(layers.Conv2D(64, (3, 3), activation='relu'))\n",
    "model.add(layers.MaxPooling2D((2, 2)))\n",
    "model.add(layers.Conv2D(64, (3, 3), activation='relu'))\n",
    "model.add(layers.Flatten())\n",
    "model.add(layers.Dense(64, activation='relu'))\n",
    "model.add(layers.Dense(7))\n",
    "\n",
    "model.summary()\n"
   ]
  },
  {
   "cell_type": "markdown",
   "metadata": {},
   "source": [
    "در این قسمت مدل را کامپایل کرده و آموزش آن را طی 50 ایپاک روی داده های آموزش شروع میکنیم . هم چنین در طی آموزش خطا و دیگر معیارها را نیز طی هر مرحله حساب میکنیم تا دیدی از چگونگی عملکر آموزش داشته باشیم"
   ]
  },
  {
   "cell_type": "code",
   "execution_count": 8,
   "metadata": {},
   "outputs": [
    {
     "name": "stdout",
     "output_type": "stream",
     "text": [
      "Epoch 1/50\n",
      "106/106 [==============================] - 17s 156ms/step - loss: 1.7961 - accuracy: 0.3272 - val_loss: 1.4803 - val_accuracy: 0.4439\n",
      "Epoch 2/50\n",
      "106/106 [==============================] - 14s 131ms/step - loss: 1.2618 - accuracy: 0.5525 - val_loss: 1.0999 - val_accuracy: 0.6014\n",
      "Epoch 3/50\n",
      "106/106 [==============================] - 14s 130ms/step - loss: 0.9849 - accuracy: 0.6497 - val_loss: 0.9367 - val_accuracy: 0.6635\n",
      "Epoch 4/50\n",
      "106/106 [==============================] - 15s 140ms/step - loss: 0.8689 - accuracy: 0.6921 - val_loss: 0.8474 - val_accuracy: 0.6945\n",
      "Epoch 5/50\n",
      "106/106 [==============================] - 16s 148ms/step - loss: 0.7552 - accuracy: 0.7294 - val_loss: 0.7782 - val_accuracy: 0.7160\n",
      "Epoch 6/50\n",
      "106/106 [==============================] - 16s 154ms/step - loss: 0.6536 - accuracy: 0.7691 - val_loss: 0.7175 - val_accuracy: 0.7518\n",
      "Epoch 7/50\n",
      "106/106 [==============================] - 15s 144ms/step - loss: 0.5778 - accuracy: 0.7970 - val_loss: 0.6810 - val_accuracy: 0.7709\n",
      "Epoch 8/50\n",
      "106/106 [==============================] - 15s 141ms/step - loss: 0.5130 - accuracy: 0.8180 - val_loss: 0.7199 - val_accuracy: 0.7589\n",
      "Epoch 9/50\n",
      "106/106 [==============================] - 14s 128ms/step - loss: 0.4497 - accuracy: 0.8296 - val_loss: 0.6835 - val_accuracy: 0.7757\n",
      "Epoch 10/50\n",
      "106/106 [==============================] - 14s 134ms/step - loss: 0.3809 - accuracy: 0.8651 - val_loss: 0.7247 - val_accuracy: 0.7733\n",
      "Epoch 11/50\n",
      "106/106 [==============================] - 13s 127ms/step - loss: 0.3527 - accuracy: 0.8729 - val_loss: 0.7203 - val_accuracy: 0.7637\n",
      "Epoch 12/50\n",
      "106/106 [==============================] - 14s 135ms/step - loss: 0.3197 - accuracy: 0.8862 - val_loss: 0.7738 - val_accuracy: 0.7542\n",
      "Epoch 13/50\n",
      "106/106 [==============================] - 16s 153ms/step - loss: 0.2779 - accuracy: 0.9063 - val_loss: 0.7059 - val_accuracy: 0.8019\n",
      "Epoch 14/50\n",
      "106/106 [==============================] - 18s 173ms/step - loss: 0.2177 - accuracy: 0.9226 - val_loss: 0.7718 - val_accuracy: 0.7637\n",
      "Epoch 15/50\n",
      "106/106 [==============================] - 17s 156ms/step - loss: 0.1941 - accuracy: 0.9324 - val_loss: 0.7947 - val_accuracy: 0.7828\n",
      "Epoch 16/50\n",
      "106/106 [==============================] - 13s 121ms/step - loss: 0.1698 - accuracy: 0.9425 - val_loss: 0.8416 - val_accuracy: 0.7924\n",
      "Epoch 17/50\n",
      "106/106 [==============================] - 13s 118ms/step - loss: 0.1588 - accuracy: 0.9416 - val_loss: 0.8355 - val_accuracy: 0.7900\n",
      "Epoch 18/50\n",
      "106/106 [==============================] - 14s 128ms/step - loss: 0.1212 - accuracy: 0.9594 - val_loss: 0.9360 - val_accuracy: 0.7780\n",
      "Epoch 19/50\n",
      "106/106 [==============================] - 14s 133ms/step - loss: 0.1081 - accuracy: 0.9635 - val_loss: 0.9219 - val_accuracy: 0.7876\n",
      "Epoch 20/50\n",
      "106/106 [==============================] - 14s 129ms/step - loss: 0.0840 - accuracy: 0.9701 - val_loss: 0.9130 - val_accuracy: 0.7947\n",
      "Epoch 21/50\n",
      "106/106 [==============================] - 13s 127ms/step - loss: 0.0755 - accuracy: 0.9778 - val_loss: 1.0519 - val_accuracy: 0.7995\n",
      "Epoch 22/50\n",
      "106/106 [==============================] - 13s 121ms/step - loss: 0.0604 - accuracy: 0.9810 - val_loss: 1.0361 - val_accuracy: 0.7828\n",
      "Epoch 23/50\n",
      "106/106 [==============================] - 14s 136ms/step - loss: 0.0616 - accuracy: 0.9828 - val_loss: 1.3248 - val_accuracy: 0.7757\n",
      "Epoch 24/50\n",
      "106/106 [==============================] - 14s 132ms/step - loss: 0.1202 - accuracy: 0.9552 - val_loss: 1.0422 - val_accuracy: 0.7971\n",
      "Epoch 25/50\n",
      "106/106 [==============================] - 13s 118ms/step - loss: 0.0616 - accuracy: 0.9793 - val_loss: 1.1004 - val_accuracy: 0.7876\n",
      "Epoch 26/50\n",
      "106/106 [==============================] - 15s 143ms/step - loss: 0.0410 - accuracy: 0.9870 - val_loss: 1.1538 - val_accuracy: 0.8043\n",
      "Epoch 27/50\n",
      "106/106 [==============================] - 14s 134ms/step - loss: 0.0239 - accuracy: 0.9944 - val_loss: 1.1922 - val_accuracy: 0.8019\n",
      "Epoch 28/50\n",
      "106/106 [==============================] - 14s 133ms/step - loss: 0.0103 - accuracy: 0.9991 - val_loss: 1.2536 - val_accuracy: 0.7900\n",
      "Epoch 29/50\n",
      "106/106 [==============================] - 16s 146ms/step - loss: 0.0091 - accuracy: 0.9988 - val_loss: 1.3264 - val_accuracy: 0.8019\n",
      "Epoch 30/50\n",
      "106/106 [==============================] - 17s 163ms/step - loss: 0.0115 - accuracy: 0.9979 - val_loss: 1.2406 - val_accuracy: 0.8067\n",
      "Epoch 31/50\n",
      "106/106 [==============================] - 14s 131ms/step - loss: 0.0060 - accuracy: 0.9991 - val_loss: 1.2853 - val_accuracy: 0.8162\n",
      "Epoch 32/50\n",
      "106/106 [==============================] - 16s 148ms/step - loss: 0.0058 - accuracy: 0.9991 - val_loss: 1.3481 - val_accuracy: 0.8162\n",
      "Epoch 33/50\n",
      "106/106 [==============================] - 17s 162ms/step - loss: 0.0024 - accuracy: 1.0000 - val_loss: 1.3921 - val_accuracy: 0.8115\n",
      "Epoch 34/50\n",
      "106/106 [==============================] - 14s 129ms/step - loss: 0.0015 - accuracy: 1.0000 - val_loss: 1.4049 - val_accuracy: 0.8162\n",
      "Epoch 35/50\n",
      "106/106 [==============================] - 14s 133ms/step - loss: 0.0011 - accuracy: 1.0000 - val_loss: 1.4381 - val_accuracy: 0.8162\n",
      "Epoch 36/50\n",
      "106/106 [==============================] - 16s 148ms/step - loss: 9.6230e-04 - accuracy: 1.0000 - val_loss: 1.4535 - val_accuracy: 0.8186\n",
      "Epoch 37/50\n",
      "106/106 [==============================] - 12s 115ms/step - loss: 8.5215e-04 - accuracy: 1.0000 - val_loss: 1.4598 - val_accuracy: 0.8138\n",
      "Epoch 38/50\n",
      "106/106 [==============================] - 13s 121ms/step - loss: 7.7502e-04 - accuracy: 1.0000 - val_loss: 1.4936 - val_accuracy: 0.8138\n",
      "Epoch 39/50\n",
      "106/106 [==============================] - 12s 113ms/step - loss: 6.9748e-04 - accuracy: 1.0000 - val_loss: 1.5052 - val_accuracy: 0.8186\n",
      "Epoch 40/50\n",
      "106/106 [==============================] - 12s 112ms/step - loss: 6.3380e-04 - accuracy: 1.0000 - val_loss: 1.5108 - val_accuracy: 0.8138\n",
      "Epoch 41/50\n",
      "106/106 [==============================] - 13s 124ms/step - loss: 5.5908e-04 - accuracy: 1.0000 - val_loss: 1.5335 - val_accuracy: 0.8115\n",
      "Epoch 42/50\n",
      "106/106 [==============================] - 12s 115ms/step - loss: 5.2458e-04 - accuracy: 1.0000 - val_loss: 1.5395 - val_accuracy: 0.8091\n",
      "Epoch 43/50\n",
      "106/106 [==============================] - 12s 111ms/step - loss: 4.7905e-04 - accuracy: 1.0000 - val_loss: 1.5492 - val_accuracy: 0.8067\n",
      "Epoch 44/50\n",
      "106/106 [==============================] - 12s 111ms/step - loss: 4.4699e-04 - accuracy: 1.0000 - val_loss: 1.5701 - val_accuracy: 0.8091\n",
      "Epoch 45/50\n",
      "106/106 [==============================] - 12s 113ms/step - loss: 4.1839e-04 - accuracy: 1.0000 - val_loss: 1.5900 - val_accuracy: 0.8043\n",
      "Epoch 46/50\n",
      "106/106 [==============================] - 12s 116ms/step - loss: 3.8051e-04 - accuracy: 1.0000 - val_loss: 1.5892 - val_accuracy: 0.8091\n",
      "Epoch 47/50\n",
      "106/106 [==============================] - 12s 114ms/step - loss: 3.4563e-04 - accuracy: 1.0000 - val_loss: 1.6089 - val_accuracy: 0.8091\n",
      "Epoch 48/50\n",
      "106/106 [==============================] - 12s 115ms/step - loss: 3.1384e-04 - accuracy: 1.0000 - val_loss: 1.6309 - val_accuracy: 0.8091\n",
      "Epoch 49/50\n",
      "106/106 [==============================] - 12s 115ms/step - loss: 2.9787e-04 - accuracy: 1.0000 - val_loss: 1.6375 - val_accuracy: 0.8115\n",
      "Epoch 50/50\n",
      "106/106 [==============================] - 12s 111ms/step - loss: 2.7692e-04 - accuracy: 1.0000 - val_loss: 1.6572 - val_accuracy: 0.8091\n"
     ]
    }
   ],
   "source": [
    "\n",
    "model.compile(optimizer='adam',\n",
    "              loss=tf.keras.losses.SparseCategoricalCrossentropy(from_logits=True),\n",
    "              metrics=['accuracy'])\n",
    "\n",
    "history = model.fit(X_train, Y_train, epochs=50, \n",
    "                    validation_data=(X_valid, Y_valid))\n"
   ]
  },
  {
   "cell_type": "markdown",
   "metadata": {},
   "source": [
    "آموزش مدل کامل شده و در بالا خطاهای مورد نظر و روند آموزش را مشاهده میکنید در پایین نیز نموداری رسم شده که نشان دهنده ی معیار\n",
    "\n",
    "accuracy\n",
    "\n",
    "روی داده های آموزش و داده های ولیدیشن است. میتوان دید در هر ایپاک این معیار به مقدار خوبی افزایش داشته و در نهایت روی داده های آموزش به 100 درصد و روی داده های ولیدیشن به 80 درصد رسیده است. به طور کلی و در مقایسه با قسمت های قبلی میبینیم شبکه های کانوولوشنی برای پردازش تصویر مناسب تر از شبکه های عصبی ساده هستند"
   ]
  },
  {
   "cell_type": "code",
   "execution_count": 9,
   "metadata": {},
   "outputs": [
    {
     "data": {
      "text/plain": [
       "<matplotlib.legend.Legend at 0x7f15d080a520>"
      ]
     },
     "execution_count": 9,
     "metadata": {},
     "output_type": "execute_result"
    },
    {
     "data": {
      "image/png": "[encoded data removed]",
      "text/plain": [
       "<Figure size 432x288 with 1 Axes>"
      ]
     },
     "execution_count": 9,
     "metadata": {
      "needs_background": "light"
     },
     "output_type": "execute_result"
    }
   ],
   "source": [
    "plt.plot(history.history['accuracy'], label='train accuracy')\n",
    "plt.plot(history.history['val_accuracy'], label = 'validation accuracy')\n",
    "plt.xlabel('Epoch')\n",
    "plt.ylabel('Accuracy')\n",
    "plt.ylim([0.5, 1])\n",
    "plt.legend(loc='lower right')\n"
   ]
  },
  {
   "cell_type": "markdown",
   "metadata": {},
   "source": [
    "در آخر نیز مدل آموزش داده شده را روی داده های تست امتحان میکنیم و میبینیم که \n",
    "\n",
    "accuracy_test=81%\n",
    "\n",
    "که درصد بسیار خوب و قابل قبولی است و عملکرد شبکه بسیار خوب بوه است"
   ]
  },
  {
   "cell_type": "code",
   "execution_count": 11,
   "metadata": {},
   "outputs": [
    {
     "name": "stdout",
     "output_type": "stream",
     "text": [
      "the accuracy that our trained model has on test data is:\n",
      "0.8181818181818182\n"
     ]
    }
   ],
   "source": [
    "predict=[]\n",
    "diff=[]\n",
    "count=0\n",
    "predict=model.predict(X_test)\n",
    "predict=np.argmax(predict, axis=1)\n",
    "\n",
    "for i in range(len(Y_test)):\n",
    "    diff.append(predict[i]-Y_test[i])\n",
    "\n",
    "for i in range(len(Y_test)):\n",
    "    if(diff[i]==0):\n",
    "        count+=1\n",
    "\n",
    "print(\"the accuracy that our trained model has on test data is:\")\n",
    "print(count/len(diff))"
   ]
  }
 ],
 "metadata": {
  "kernelspec": {
   "display_name": "Python 3",
   "language": "python",
   "name": "python3"
  },
  "language_info": {
   "codemirror_mode": {
    "name": "ipython",
    "version": 3
   },
   "file_extension": ".py",
   "mimetype": "text/x-python",
   "name": "python",
   "nbconvert_exporter": "python",
   "pygments_lexer": "ipython3",
   "version": "3.8.3"
  }
 },
 "nbformat": 4,
 "nbformat_minor": 4
}

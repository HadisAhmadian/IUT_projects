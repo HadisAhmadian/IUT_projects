{
 "cells": [
  {
   "cell_type": "markdown",
   "metadata": {},
   "source": [
    "# <center> <span style=\"color:Indigo\"> Computational Intelligence Course </span></center>\n",
    "## <center><span style=\"color:Blue\">  Homework 4: Support Vector Machine </span></center>\n",
    "### <center><span style=\"color:DeepSkyBlue\">\" Authors: Sajede Nicknadaf, Hadis Ahamdian \"</span></center>\n",
    "\n",
    " <center><span style=\"color:red\"> توجه: به دلیل زیاد بودن حجم فایل داده ها، همراه تکلیف ضمیمه نشده اند، برای اجرا و تست کد ها باید فایل داده ها (برای سوال های ۱ و ۳) را در پوشه ی \n",
    "دیتا قرار دهید</span></center>\n",
    "\n"
   ]
  },
  {
   "cell_type": "markdown",
   "metadata": {},
   "source": [
    ">###  <span style=\"color:Purple\"> Question 1 : \n",
    "</span><p style=\"text-align:right;text-align:rtl\">ابتدا کتابخانه ها و توابع مورد نیاز را اضافه میکنیم </p>\n",
    "\n",
    "\n"
   ]
  },
  {
   "cell_type": "code",
   "execution_count": 1,
   "metadata": {},
   "outputs": [],
   "source": [
    "import random\n",
    "import matplotlib.pyplot as plt\n",
    "import matplotlib.pyplot as plt; plt.rcdefaults;\n",
    "import numpy as np\n",
    "import pandas as pd\n",
    "from sklearn.linear_model import LogisticRegression\n",
    "import seaborn as sns\n",
    "from sklearn.model_selection import train_test_split\n",
    "from sklearn.svm import SVC\n",
    "from sklearn import metrics\n",
    "from sklearn.metrics import f1_score,precision_score,recall_score,accuracy_score,roc_curve, auc\n",
    "%matplotlib inline"
   ]
  },
  {
   "cell_type": "markdown",
   "metadata": {},
   "source": [
    "<p style=\"text-align:right;text-align:rtl\">خواندن دیتا ها</p>"
   ]
  },
  {
   "cell_type": "code",
   "execution_count": 2,
   "metadata": {},
   "outputs": [],
   "source": [
    "file1 = open('data/data_banknote_authentication.txt', 'r') \n",
    "Lines = file1.readlines() \n",
    "\n",
    "size=len(Lines)\n",
    "x=np.zeros((size,4))\n",
    "y=np.zeros(size,int)\n",
    "i=0\n",
    "\n",
    "for line in Lines:\n",
    "    sp=line.split(\",\")\n",
    "    x[i][0]=float(sp[0])\n",
    "    x[i][1]=float(sp[1])\n",
    "    x[i][2]=float(sp[2])\n",
    "    x[i][3]=float(sp[3])\n",
    "    y[i]=int(sp[4])\n",
    "    i=i+1\n",
    "    \n"
   ]
  },
  {
   "cell_type": "markdown",
   "metadata": {},
   "source": [
    "<p style=\"text-align:right;text-align:rtl\">انتخاب ده درصد از داده ها به عنوان داده تست </p>"
   ]
  },
  {
   "cell_type": "code",
   "execution_count": 3,
   "metadata": {},
   "outputs": [],
   "source": [
    "X_train,X_test,Y_train,Y_test=train_test_split(x,y,test_size=0.1)"
   ]
  },
  {
   "cell_type": "markdown",
   "metadata": {},
   "source": [
    "<p style=\"text-align:right;text-align:rtl\">آموزش مدل </p>"
   ]
  },
  {
   "cell_type": "code",
   "execution_count": 4,
   "metadata": {},
   "outputs": [],
   "source": [
    "model=SVC(kernel='rbf')"
   ]
  },
  {
   "cell_type": "code",
   "execution_count": 5,
   "metadata": {},
   "outputs": [
    {
     "data": {
      "text/plain": [
       "SVC()"
      ]
     },
     "execution_count": 5,
     "metadata": {},
     "output_type": "execute_result"
    }
   ],
   "source": [
    "model.fit(X_train,Y_train)"
   ]
  },
  {
   "cell_type": "markdown",
   "metadata": {},
   "source": [
    "<p style=\"text-align:right;text-align:rtl\">دقت روی داده های آموزش</p>"
   ]
  },
  {
   "cell_type": "code",
   "execution_count": 6,
   "metadata": {},
   "outputs": [
    {
     "data": {
      "text/plain": [
       "1.0"
      ]
     },
     "execution_count": 6,
     "metadata": {},
     "output_type": "execute_result"
    }
   ],
   "source": [
    "model.score(X_train,Y_train)"
   ]
  },
  {
   "cell_type": "markdown",
   "metadata": {},
   "source": [
    "<p style=\"text-align:right;text-align:rtl\">دقت روی داده های تست</p>"
   ]
  },
  {
   "cell_type": "code",
   "execution_count": 7,
   "metadata": {},
   "outputs": [
    {
     "data": {
      "text/plain": [
       "1.0"
      ]
     },
     "execution_count": 7,
     "metadata": {},
     "output_type": "execute_result"
    }
   ],
   "source": [
    "model.score(X_test,Y_test)"
   ]
  },
  {
   "cell_type": "markdown",
   "metadata": {},
   "source": [
    "<p style=\"text-align:right;text-align:rtl\">اندازه گیری معیار های دقت روی داده های تست</p>"
   ]
  },
  {
   "cell_type": "code",
   "execution_count": 8,
   "metadata": {},
   "outputs": [
    {
     "name": "stdout",
     "output_type": "stream",
     "text": [
      "F1_score: 1.0\n",
      "Precision: 1.0\n",
      "Recall: 1.0\n",
      "Accuracy: 1.0\n"
     ]
    }
   ],
   "source": [
    "Y_pre=model.predict(X_test)\n",
    "print(f\"F1_score: {f1_score(Y_test, Y_pre, average='macro')}\")\n",
    "print(f\"Precision: {precision_score(Y_test, Y_pre, average='macro')}\")\n",
    "print(f\"Recall: {recall_score(Y_test, Y_pre, average='macro')}\")\n",
    "print(f\"Accuracy: {accuracy_score(Y_test, Y_pre)}\")"
   ]
  },
  {
   "cell_type": "markdown",
   "metadata": {},
   "source": [
    "<p style=\"text-align:right;text-align:rtl\">ROC رسم نمودار </p>\n"
   ]
  },
  {
   "cell_type": "code",
   "execution_count": 9,
   "metadata": {},
   "outputs": [
    {
     "data": {
      "image/png": "[encoded data removed]",
      "text/plain": [
       "<Figure size 432x288 with 1 Axes>"
      ]
     },
     "metadata": {
      "needs_background": "light"
     },
     "output_type": "display_data"
    }
   ],
   "source": [
    "train_fpr, train_tpr, tr_thresholds = roc_curve(Y_train, model.predict(X_train))\n",
    "test_fpr, test_tpr, te_thresholds = roc_curve(Y_test, Y_pre)\n",
    "\n",
    "plt.grid()\n",
    "\n",
    "plt.plot(train_fpr, train_tpr, label=\" AUC TRAIN =\"+str(auc(train_fpr, train_tpr)))\n",
    "plt.plot(test_fpr, test_tpr, label=\" AUC TEST =\"+str(auc(test_fpr, test_tpr)))\n",
    "plt.plot([0,1],[0,1],'g--')\n",
    "plt.legend()\n",
    "plt.xlabel(\"True Positive Rate\")\n",
    "plt.ylabel(\"False Positive Rate\")\n",
    "plt.title(\"AUC(ROC curve)\")\n",
    "plt.grid(color='black', linestyle='-', linewidth=0.5)\n",
    "plt.show()"
   ]
  },
  {
   "cell_type": "markdown",
   "metadata": {},
   "source": [
    " <p style=\"text-align:right;text-align:rtl\">همانطور که مشاهده میشود به خوبی دیتا ها از هم جدا شده اند و نه تنها روی داده ی آموزش بلکه روی دیتاهای تست همبه خوبی کلاس ها از هم جدا شده اند و سطح زیر دو نمودار چه روی دیتا های تست و چه آموزش برابر یک است</p>"
   ]
  },
  {
   "cell_type": "markdown",
   "metadata": {},
   "source": [
    ">  ## <span style=\"color:Purple\"> Question 2 : </span>\n",
    "<p style=\"text-align:right;text-align:rtl\">\n",
    "در روش ساپورت وکتور ماشین وقتی داده ها تا حد بسیار زیادی بالانس نداشته باشند و تعداد اعضای یکی از کلاس ها به حد قابل توجه و بسیار زیادی از کلاس دیگر بیشتر باشد، ساپورت وکتور ماشین قادر به دسته بندی صحیح داده ها نخواهد بود. علت این امر این است که حتی اگر الگوریتم تمام داده ها را در یک کلاس قرار دهد (یعنی عملا هیچ دسته بندی ای انجام ندهد و داده ها را از هم جدا نکند و بگوید همه ی داده ها در یک کلاس هستند) باز هم دقت خوبی خواهد داشت و هزینه ی زیادی متحمل نمیشود. به عنوان مثال فرض کنید 98 داده در کلاس اول و 2 داده در کلاس دوم داشته باشیم، اگر الگوریتم تشخیص دهد همه ی داده ها به کلاس اول متعلق هستند ، 98 داده از 100 داده را درست تشخیص داده و دقت 98 درصدی داشته در حالی که عمبا هیچ دسته بندی قابل قبولی نکرده است. این امر به این دلیل پیش می آید که جریمه ی دسته بندی غلط یا به عبارتی جریمه ی عبور از مرزها برای دو کلاس برابر است و حتی اگر الگوریتم تمام اعضای کلاس کوچک تر را غلط دسته بندی کند، چون تعداد بسیار کمی از کل داده هاست، خطای خیلی کمی متحمل میشود\n",
    "</p>\n",
    "\n",
    ">![image info](data/imbalanced.png)\n",
    "\n",
    "<p style=\"text-align:right;text-align:rtl\">\n",
    "راه حل این مشکل این است که در داده هایی که بالانس ندارند برای هر کلاس هزینه ی عبور از مرز متفاوتی در نظر گرفته شود، به عبارت دیگر برای داده های کلاس کوچک تر ، جریمه ی بیشتر و برای کلاس بزرگ تر جریمه ی کمتری در نظر گرفته شود. به این شکل اگر الگوریتم داده های کلاس کوچک را اشتباه دسته بندی کند، چون جریمه ی آن را زیاد در نظر گرفتیم، متحمل جریمه ی زیادی میشود و مجبور میشود که به داده های کلاس کوچک هم توجه کند و آن ها را نیز درست دسته بندی کند.\n",
    "در شکل های زیر قیود لازم برای اجرای ساپورت وکتور ماشین وزن دار را میبینیم، همانطور که قابل مشاهده است. برای هر کلاس جریمه خطای مختص به خود قرار داده شده است و وزن این جریمه ها باید به گونه ای تنطیم شود که متناسب با تعداد داده ها در هر دسته باشد\n",
    "(کلاس کوچتکر جریمه ی بیشتر و بالعکس) \n",
    "</p>\n",
    "\n",
    ">![image info](data/WSVM.png)\n",
    "\n"
   ]
  },
  {
   "cell_type": "markdown",
   "metadata": {},
   "source": [
    "> ### <span style=\"color:Purple\"> Question 3 : </span>\n"
   ]
  },
  {
   "cell_type": "markdown",
   "metadata": {},
   "source": [
    "<p style=\"text-align:right;text-align:rtl\">\n",
    "we load and count number of data in each class\n",
    "</p>"
   ]
  },
  {
   "cell_type": "code",
   "execution_count": 10,
   "metadata": {},
   "outputs": [
    {
     "data": {
      "text/html": [
       "<div>\n",
       "<style scoped>\n",
       "    .dataframe tbody tr th:only-of-type {\n",
       "        vertical-align: middle;\n",
       "    }\n",
       "\n",
       "    .dataframe tbody tr th {\n",
       "        vertical-align: top;\n",
       "    }\n",
       "\n",
       "    .dataframe thead th {\n",
       "        text-align: right;\n",
       "    }\n",
       "</style>\n",
       "<table border=\"1\" class=\"dataframe\">\n",
       "  <thead>\n",
       "    <tr style=\"text-align: right;\">\n",
       "      <th></th>\n",
       "      <th>Time</th>\n",
       "      <th>V1</th>\n",
       "      <th>V2</th>\n",
       "      <th>V3</th>\n",
       "      <th>V4</th>\n",
       "      <th>V5</th>\n",
       "      <th>V6</th>\n",
       "      <th>V7</th>\n",
       "      <th>V8</th>\n",
       "      <th>V9</th>\n",
       "      <th>...</th>\n",
       "      <th>V21</th>\n",
       "      <th>V22</th>\n",
       "      <th>V23</th>\n",
       "      <th>V24</th>\n",
       "      <th>V25</th>\n",
       "      <th>V26</th>\n",
       "      <th>V27</th>\n",
       "      <th>V28</th>\n",
       "      <th>Amount</th>\n",
       "      <th>Class</th>\n",
       "    </tr>\n",
       "  </thead>\n",
       "  <tbody>\n",
       "    <tr>\n",
       "      <th>0</th>\n",
       "      <td>0.0</td>\n",
       "      <td>-1.359807</td>\n",
       "      <td>-0.072781</td>\n",
       "      <td>2.536347</td>\n",
       "      <td>1.378155</td>\n",
       "      <td>-0.338321</td>\n",
       "      <td>0.462388</td>\n",
       "      <td>0.239599</td>\n",
       "      <td>0.098698</td>\n",
       "      <td>0.363787</td>\n",
       "      <td>...</td>\n",
       "      <td>-0.018307</td>\n",
       "      <td>0.277838</td>\n",
       "      <td>-0.110474</td>\n",
       "      <td>0.066928</td>\n",
       "      <td>0.128539</td>\n",
       "      <td>-0.189115</td>\n",
       "      <td>0.133558</td>\n",
       "      <td>-0.021053</td>\n",
       "      <td>149.62</td>\n",
       "      <td>0</td>\n",
       "    </tr>\n",
       "    <tr>\n",
       "      <th>1</th>\n",
       "      <td>0.0</td>\n",
       "      <td>1.191857</td>\n",
       "      <td>0.266151</td>\n",
       "      <td>0.166480</td>\n",
       "      <td>0.448154</td>\n",
       "      <td>0.060018</td>\n",
       "      <td>-0.082361</td>\n",
       "      <td>-0.078803</td>\n",
       "      <td>0.085102</td>\n",
       "      <td>-0.255425</td>\n",
       "      <td>...</td>\n",
       "      <td>-0.225775</td>\n",
       "      <td>-0.638672</td>\n",
       "      <td>0.101288</td>\n",
       "      <td>-0.339846</td>\n",
       "      <td>0.167170</td>\n",
       "      <td>0.125895</td>\n",
       "      <td>-0.008983</td>\n",
       "      <td>0.014724</td>\n",
       "      <td>2.69</td>\n",
       "      <td>0</td>\n",
       "    </tr>\n",
       "    <tr>\n",
       "      <th>2</th>\n",
       "      <td>1.0</td>\n",
       "      <td>-1.358354</td>\n",
       "      <td>-1.340163</td>\n",
       "      <td>1.773209</td>\n",
       "      <td>0.379780</td>\n",
       "      <td>-0.503198</td>\n",
       "      <td>1.800499</td>\n",
       "      <td>0.791461</td>\n",
       "      <td>0.247676</td>\n",
       "      <td>-1.514654</td>\n",
       "      <td>...</td>\n",
       "      <td>0.247998</td>\n",
       "      <td>0.771679</td>\n",
       "      <td>0.909412</td>\n",
       "      <td>-0.689281</td>\n",
       "      <td>-0.327642</td>\n",
       "      <td>-0.139097</td>\n",
       "      <td>-0.055353</td>\n",
       "      <td>-0.059752</td>\n",
       "      <td>378.66</td>\n",
       "      <td>0</td>\n",
       "    </tr>\n",
       "    <tr>\n",
       "      <th>3</th>\n",
       "      <td>1.0</td>\n",
       "      <td>-0.966272</td>\n",
       "      <td>-0.185226</td>\n",
       "      <td>1.792993</td>\n",
       "      <td>-0.863291</td>\n",
       "      <td>-0.010309</td>\n",
       "      <td>1.247203</td>\n",
       "      <td>0.237609</td>\n",
       "      <td>0.377436</td>\n",
       "      <td>-1.387024</td>\n",
       "      <td>...</td>\n",
       "      <td>-0.108300</td>\n",
       "      <td>0.005274</td>\n",
       "      <td>-0.190321</td>\n",
       "      <td>-1.175575</td>\n",
       "      <td>0.647376</td>\n",
       "      <td>-0.221929</td>\n",
       "      <td>0.062723</td>\n",
       "      <td>0.061458</td>\n",
       "      <td>123.50</td>\n",
       "      <td>0</td>\n",
       "    </tr>\n",
       "    <tr>\n",
       "      <th>4</th>\n",
       "      <td>2.0</td>\n",
       "      <td>-1.158233</td>\n",
       "      <td>0.877737</td>\n",
       "      <td>1.548718</td>\n",
       "      <td>0.403034</td>\n",
       "      <td>-0.407193</td>\n",
       "      <td>0.095921</td>\n",
       "      <td>0.592941</td>\n",
       "      <td>-0.270533</td>\n",
       "      <td>0.817739</td>\n",
       "      <td>...</td>\n",
       "      <td>-0.009431</td>\n",
       "      <td>0.798278</td>\n",
       "      <td>-0.137458</td>\n",
       "      <td>0.141267</td>\n",
       "      <td>-0.206010</td>\n",
       "      <td>0.502292</td>\n",
       "      <td>0.219422</td>\n",
       "      <td>0.215153</td>\n",
       "      <td>69.99</td>\n",
       "      <td>0</td>\n",
       "    </tr>\n",
       "  </tbody>\n",
       "</table>\n",
       "<p>5 rows × 31 columns</p>\n",
       "</div>"
      ],
      "text/plain": [
       "   Time        V1        V2        V3        V4        V5        V6        V7  \\\n",
       "0   0.0 -1.359807 -0.072781  2.536347  1.378155 -0.338321  0.462388  0.239599   \n",
       "1   0.0  1.191857  0.266151  0.166480  0.448154  0.060018 -0.082361 -0.078803   \n",
       "2   1.0 -1.358354 -1.340163  1.773209  0.379780 -0.503198  1.800499  0.791461   \n",
       "3   1.0 -0.966272 -0.185226  1.792993 -0.863291 -0.010309  1.247203  0.237609   \n",
       "4   2.0 -1.158233  0.877737  1.548718  0.403034 -0.407193  0.095921  0.592941   \n",
       "\n",
       "         V8        V9  ...       V21       V22       V23       V24       V25  \\\n",
       "0  0.098698  0.363787  ... -0.018307  0.277838 -0.110474  0.066928  0.128539   \n",
       "1  0.085102 -0.255425  ... -0.225775 -0.638672  0.101288 -0.339846  0.167170   \n",
       "2  0.247676 -1.514654  ...  0.247998  0.771679  0.909412 -0.689281 -0.327642   \n",
       "3  0.377436 -1.387024  ... -0.108300  0.005274 -0.190321 -1.175575  0.647376   \n",
       "4 -0.270533  0.817739  ... -0.009431  0.798278 -0.137458  0.141267 -0.206010   \n",
       "\n",
       "        V26       V27       V28  Amount  Class  \n",
       "0 -0.189115  0.133558 -0.021053  149.62      0  \n",
       "1  0.125895 -0.008983  0.014724    2.69      0  \n",
       "2 -0.139097 -0.055353 -0.059752  378.66      0  \n",
       "3 -0.221929  0.062723  0.061458  123.50      0  \n",
       "4  0.502292  0.219422  0.215153   69.99      0  \n",
       "\n",
       "[5 rows x 31 columns]"
      ]
     },
     "execution_count": 10,
     "metadata": {},
     "output_type": "execute_result"
    }
   ],
   "source": [
    "data=pd.read_csv('data/creditcard.csv',header=0)\n",
    "data=data.dropna()\n",
    "data.head()"
   ]
  },
  {
   "cell_type": "code",
   "execution_count": 11,
   "metadata": {},
   "outputs": [
    {
     "data": {
      "text/plain": [
       "0    284315\n",
       "1       492\n",
       "Name: Class, dtype: int64"
      ]
     },
     "execution_count": 11,
     "metadata": {},
     "output_type": "execute_result"
    }
   ],
   "source": [
    "data['Class'].value_counts()"
   ]
  },
  {
   "cell_type": "markdown",
   "metadata": {},
   "source": [
    "<p style=\"text-align:right;text-align:rtl\">\n",
    "رسم نمودار میله ای برای نمایش تعداد داده ها در هر دسته\n",
    "</p>"
   ]
  },
  {
   "cell_type": "code",
   "execution_count": 12,
   "metadata": {},
   "outputs": [
    {
     "data": {
      "image/png": "[encoded data removed]",
      "text/plain": [
       "<Figure size 432x288 with 1 Axes>"
      ]
     },
     "metadata": {
      "needs_background": "light"
     },
     "output_type": "display_data"
    }
   ],
   "source": [
    "sns.countplot(x='Class',data=data,palette='hls')\n",
    "plt.show()"
   ]
  },
  {
   "cell_type": "code",
   "execution_count": 13,
   "metadata": {},
   "outputs": [],
   "source": [
    "df = data['Class']\n",
    "y = df.tolist()\n",
    "\n",
    "\n",
    "df = pd.DataFrame(data, columns= ['Time', 'V1', 'V2', 'V3', 'V4', 'V5', 'V6', 'V7', 'V8', 'V9', 'V10', 'V11', 'V12', 'V13', 'V14', 'V15', 'V16', 'V17', 'V18', 'V19', 'V20', 'V21', 'V22', 'V23', 'V24', 'V25', 'V26', 'V27', 'V28', 'Amount'])\n",
    "x = df.values.tolist()\n"
   ]
  },
  {
   "cell_type": "markdown",
   "metadata": {},
   "source": [
    "<p style=\"text-align:right;text-align:rtl\">\n",
    "پیش پردازش:\n",
    "در این قسمت آندر سمپلیتگ انجام میشود به این شکل که تعدادی از داده های کلاس بزرگ تر را حذف میکنیم تا هم اندازه ی کلاس کوچکتر شود. به این منظور ابتدا داده ها شافل میشوند و به طور رندوم داده هایی از کلاس بزرگ تر انتخاب مبشوند(در واقع به تعدا داده های کلاس کوچک تر)\n",
    "</p>\n"
   ]
  },
  {
   "cell_type": "code",
   "execution_count": 14,
   "metadata": {},
   "outputs": [],
   "source": [
    "j=0;\n",
    "m=len(y)\n",
    "for i in range(m):\n",
    "    if(y[j]==0):\n",
    "        j+=1\n",
    "\n",
    "        \n",
    "    else:\n",
    "        y.append(y[j])\n",
    "        x.append(x[j])\n",
    "        del x[j]\n",
    "        del y[j]\n",
    "    "
   ]
  },
  {
   "cell_type": "code",
   "execution_count": 15,
   "metadata": {},
   "outputs": [],
   "source": [
    "c=0\n",
    "min_class=492\n",
    "index=y.index(1-c)\n",
    "x_tmp=[]\n",
    "y_tmp=[]\n",
    "\n",
    "for i in range(min_class):\n",
    "    x_tmp.append(x[index])\n",
    "    y_tmp.append(y[index])\n",
    "    del x[index]\n",
    "    del y[index]\n",
    "\n",
    "        \n",
    "temp = list(zip(x, y))\n",
    "random.shuffle(temp)\n",
    "x, y = zip(*temp)\n",
    "x=list(x)\n",
    "y=list(y)\n",
    "\n",
    "for i in range(min_class):\n",
    "    i=np.random.randint(0, len(y)-1)\n",
    "    x_tmp.append(x[i])\n",
    "    y_tmp.append(y[i])\n",
    "    del x[i]\n",
    "    del y[i]\n",
    "    \n",
    "x=x_tmp\n",
    "y=y_tmp\n"
   ]
  },
  {
   "cell_type": "markdown",
   "metadata": {},
   "source": [
    "<p style=\"text-align:right;text-align:rtl\">\n",
    "میبینیم که تعداد داده های دو کلاس برابر شدند\n",
    "</p>"
   ]
  },
  {
   "cell_type": "code",
   "execution_count": 16,
   "metadata": {},
   "outputs": [
    {
     "name": "stdout",
     "output_type": "stream",
     "text": [
      "984\n"
     ]
    }
   ],
   "source": [
    "print(len(y))"
   ]
  },
  {
   "cell_type": "code",
   "execution_count": 17,
   "metadata": {},
   "outputs": [
    {
     "name": "stdout",
     "output_type": "stream",
     "text": [
      "class 0 : \n",
      "492\n",
      "class 1 : \n",
      "492\n"
     ]
    }
   ],
   "source": [
    "count0=0;\n",
    "count1=0\n",
    "for i in range(len(y)):\n",
    "    if(y[i]==0):\n",
    "        count0+=1\n",
    "    else:\n",
    "        count1+=1\n",
    "        \n",
    "print(\"class 0 : \")\n",
    "print(count0)\n",
    "print(\"class 1 : \")\n",
    "print(count1)"
   ]
  },
  {
   "cell_type": "code",
   "execution_count": 18,
   "metadata": {},
   "outputs": [
    {
     "data": {
      "image/png": "[encoded data removed]",
      "text/plain": [
       "<Figure size 432x288 with 1 Axes>"
      ]
     },
     "metadata": {
      "needs_background": "light"
     },
     "output_type": "display_data"
    }
   ],
   "source": [
    "objects = ('class ZERO', 'class ONE')\n",
    "y_pos = np.arange(len(objects))\n",
    "performance = [count0,count1]\n",
    "\n",
    "plt.bar(y_pos, performance, align='center', alpha=1)\n",
    "plt.xticks(y_pos, objects)\n",
    "plt.ylabel('count')\n",
    "plt.title('class')\n",
    "\n",
    "plt.show()"
   ]
  },
  {
   "cell_type": "markdown",
   "metadata": {},
   "source": [
    "<p style=\"text-align:right;text-align:rtl\">\n",
    "جدا سازی داده های تست و آموزش (10 درصد تست) و سپس آموزش مدل و مشاهده ی دقت روی داده های آموزش</p>"
   ]
  },
  {
   "cell_type": "code",
   "execution_count": 19,
   "metadata": {},
   "outputs": [
    {
     "name": "stdout",
     "output_type": "stream",
     "text": [
      "Train accuracy: \n"
     ]
    },
    {
     "data": {
      "text/plain": [
       "0.7548022598870057"
      ]
     },
     "execution_count": 19,
     "metadata": {},
     "output_type": "execute_result"
    }
   ],
   "source": [
    "X_train,X_test,Y_train,Y_test=train_test_split(x,y,test_size=0.1)\n",
    "model=SVC(kernel='rbf',gamma=0.000001)\n",
    "model.fit(X_train,Y_train)\n",
    "\n",
    "print(\"Train accuracy: \")\n",
    "model.score(X_train,Y_train)"
   ]
  },
  {
   "cell_type": "markdown",
   "metadata": {},
   "source": [
    "<p style=\"text-align:right;text-align:rtl\">\n",
    "دقت روی داده های تست</p>"
   ]
  },
  {
   "cell_type": "code",
   "execution_count": 20,
   "metadata": {},
   "outputs": [
    {
     "name": "stdout",
     "output_type": "stream",
     "text": [
      "Test accuracy: \n"
     ]
    },
    {
     "data": {
      "text/plain": [
       "0.6565656565656566"
      ]
     },
     "execution_count": 20,
     "metadata": {},
     "output_type": "execute_result"
    }
   ],
   "source": [
    "print(\"Test accuracy: \")\n",
    "model.score(X_test,Y_test)"
   ]
  },
  {
   "cell_type": "markdown",
   "metadata": {},
   "source": [
    "<p style=\"text-align:right;text-align:rtl\">\n",
    "محاسبه ی سایر معیار ها</p>"
   ]
  },
  {
   "cell_type": "code",
   "execution_count": 21,
   "metadata": {
    "scrolled": true
   },
   "outputs": [
    {
     "name": "stdout",
     "output_type": "stream",
     "text": [
      "F1_score: 0.6548400328137818\n",
      "Precision: 0.6548400328137818\n",
      "Recall: 0.6548400328137818\n",
      "Accuracy: 0.6565656565656566\n"
     ]
    }
   ],
   "source": [
    "Y_pre=model.predict(X_test)\n",
    "print(f\"F1_score: {f1_score(Y_test, Y_pre, average='macro')}\")\n",
    "print(f\"Precision: {precision_score(Y_test, Y_pre, average='macro')}\")\n",
    "print(f\"Recall: {recall_score(Y_test, Y_pre, average='macro')}\")\n",
    "print(f\"Accuracy: {accuracy_score(Y_test, Y_pre)}\")"
   ]
  },
  {
   "cell_type": "markdown",
   "metadata": {},
   "source": [
    "<p style=\"text-align:right;text-align:rtl\">\n",
    "ROC رسم نمودار </p>\n",
    "<p style=\"text-align:right;text-align:rtl\">\n",
    "قابل ملاحظه است که آموزش  نتیجه ی خیلی خوبی نداشته است و نتوانسته کاملا به درستی داده هارا از هم تفکیک کند و تمامی معیار ها نیز بیانگر این موضوع هستند </p>"
   ]
  },
  {
   "cell_type": "code",
   "execution_count": 22,
   "metadata": {},
   "outputs": [
    {
     "data": {
      "image/png": "[encoded data removed]",
      "text/plain": [
       "<Figure size 432x288 with 1 Axes>"
      ]
     },
     "metadata": {
      "needs_background": "light"
     },
     "output_type": "display_data"
    }
   ],
   "source": [
    "train_fpr, train_tpr, tr_thresholds = roc_curve(Y_train, model.predict(X_train))\n",
    "test_fpr, test_tpr, te_thresholds = roc_curve(Y_test, Y_pre)\n",
    "\n",
    "plt.grid()\n",
    "\n",
    "plt.plot(train_fpr, train_tpr, label=\" AUC TRAIN =\"+str(auc(train_fpr, train_tpr)))\n",
    "plt.plot(test_fpr, test_tpr, label=\" AUC TEST =\"+str(auc(test_fpr, test_tpr)))\n",
    "plt.plot([0,1],[0,1],'g--')\n",
    "plt.legend()\n",
    "plt.xlabel(\"True Positive Rate\")\n",
    "plt.ylabel(\"False Positive Rate\")\n",
    "plt.title(\"AUC(ROC curve)\")\n",
    "plt.grid(color='black', linestyle='-', linewidth=0.5)\n",
    "plt.show()\n"
   ]
  },
  {
   "cell_type": "markdown",
   "metadata": {},
   "source": [
    "<p style=\"text-align:right;text-align:rtl\">\n",
    "در این بخش به حل سوال با رگرسیون خطی می پردازیم</p>"
   ]
  },
  {
   "cell_type": "code",
   "execution_count": 23,
   "metadata": {},
   "outputs": [
    {
     "name": "stderr",
     "output_type": "stream",
     "text": [
      "/home/sajede_nick/anaconda3/lib/python3.8/site-packages/sklearn/linear_model/_logistic.py:762: ConvergenceWarning: lbfgs failed to converge (status=1):\n",
      "STOP: TOTAL NO. of ITERATIONS REACHED LIMIT.\n",
      "\n",
      "Increase the number of iterations (max_iter) or scale the data as shown in:\n",
      "    https://scikit-learn.org/stable/modules/preprocessing.html\n",
      "Please also refer to the documentation for alternative solver options:\n",
      "    https://scikit-learn.org/stable/modules/linear_model.html#logistic-regression\n",
      "  n_iter_i = _check_optimize_result(\n"
     ]
    },
    {
     "data": {
      "text/plain": [
       "LogisticRegression()"
      ]
     },
     "execution_count": 23,
     "metadata": {},
     "output_type": "execute_result"
    }
   ],
   "source": [
    "logreg = LogisticRegression()\n",
    "logreg.fit(X_train, Y_train)"
   ]
  },
  {
   "cell_type": "markdown",
   "metadata": {},
   "source": [
    "<p style=\"text-align:right;text-align:rtl\">\n",
    "اندازه گیری دقت و بقیه معیار ها روی داده های آموزش</p>"
   ]
  },
  {
   "cell_type": "code",
   "execution_count": 24,
   "metadata": {},
   "outputs": [
    {
     "name": "stdout",
     "output_type": "stream",
     "text": [
      "Accuracy of logistic regression classifier on trin set: 0.94\n"
     ]
    }
   ],
   "source": [
    "y_pred1 = logreg.predict(X_train)\n",
    "print('Accuracy of logistic regression classifier on trin set: {:.2f}'.format(logreg.score(X_train, Y_train)))"
   ]
  },
  {
   "cell_type": "code",
   "execution_count": 25,
   "metadata": {
    "scrolled": true
   },
   "outputs": [
    {
     "name": "stdout",
     "output_type": "stream",
     "text": [
      "              precision    recall  f1-score   support\n",
      "\n",
      "           0       0.92      0.97      0.94       446\n",
      "           1       0.96      0.91      0.94       439\n",
      "\n",
      "    accuracy                           0.94       885\n",
      "   macro avg       0.94      0.94      0.94       885\n",
      "weighted avg       0.94      0.94      0.94       885\n",
      "\n"
     ]
    }
   ],
   "source": [
    "from sklearn.metrics import classification_report\n",
    "print(classification_report(Y_train, y_pred1))"
   ]
  },
  {
   "cell_type": "markdown",
   "metadata": {},
   "source": [
    "<p style=\"text-align:right;text-align:rtl\">\n",
    "اندازه گیری دقت و بقیه معیار ها روی داده های تست</p>"
   ]
  },
  {
   "cell_type": "code",
   "execution_count": 26,
   "metadata": {},
   "outputs": [
    {
     "name": "stdout",
     "output_type": "stream",
     "text": [
      "Accuracy of logistic regression classifier on test set: 0.95\n"
     ]
    }
   ],
   "source": [
    "y_pred2 = logreg.predict(X_test)\n",
    "print('Accuracy of logistic regression classifier on test set: {:.2f}'.format(logreg.score(X_test, Y_test)))"
   ]
  },
  {
   "cell_type": "code",
   "execution_count": 27,
   "metadata": {},
   "outputs": [
    {
     "name": "stdout",
     "output_type": "stream",
     "text": [
      "              precision    recall  f1-score   support\n",
      "\n",
      "           0       0.94      0.96      0.95        46\n",
      "           1       0.96      0.94      0.95        53\n",
      "\n",
      "    accuracy                           0.95        99\n",
      "   macro avg       0.95      0.95      0.95        99\n",
      "weighted avg       0.95      0.95      0.95        99\n",
      "\n"
     ]
    }
   ],
   "source": [
    "print(classification_report(Y_test, y_pred2))"
   ]
  },
  {
   "cell_type": "markdown",
   "metadata": {},
   "source": [
    "<p style=\"text-align:right;text-align:rtl\">\n",
    "ROC رسم نمودار </p>\n",
    "<p style=\"text-align:right;text-align:rtl\">\n",
    "قابل ملاحظه است که آموزش  نتیجه ی خیلی بهتری نسبت به روش قبل داشته و روی این داده ها خیلی بهتر نتیجه داده است</p>"
   ]
  },
  {
   "cell_type": "code",
   "execution_count": 28,
   "metadata": {},
   "outputs": [
    {
     "data": {
      "image/png": "[encoded data removed]",
      "text/plain": [
       "<Figure size 432x288 with 1 Axes>"
      ]
     },
     "metadata": {
      "needs_background": "light"
     },
     "output_type": "display_data"
    }
   ],
   "source": [
    "train_fpr, train_tpr, tr_thresholds = roc_curve(Y_train, y_pred1)\n",
    "test_fpr, test_tpr, te_thresholds = roc_curve(Y_test, y_pred2)\n",
    "\n",
    "plt.grid()\n",
    "\n",
    "plt.plot(train_fpr, train_tpr, label=\" AUC TRAIN =\"+str(auc(train_fpr, train_tpr)))\n",
    "plt.plot(test_fpr, test_tpr, label=\" AUC TEST =\"+str(auc(test_fpr, test_tpr)))\n",
    "plt.plot([0,1],[0,1],'g--')\n",
    "plt.legend()\n",
    "plt.xlabel(\"True Positive Rate\")\n",
    "plt.ylabel(\"False Positive Rate\")\n",
    "plt.title(\"AUC(ROC curve)\")\n",
    "plt.grid(color='black', linestyle='-', linewidth=0.5)\n",
    "plt.show()\n"
   ]
  },
  {
   "cell_type": "markdown",
   "metadata": {},
   "source": [
    "> ###  <span style=\"color:Purple\">  Theory Question : </span>"
   ]
  },
  {
   "cell_type": "markdown",
   "metadata": {},
   "source": [
    "<p style=\"text-align:right;text-align:rtl\">هرچه مدل به سمت اورفیت شدن پیش برود خطوط مارجین به داده ها نزدیک تر میشود در نتیجه تعداد ساپورت وکتور ها افزایش میابد و همانطور که در شکل زیر میبینید در حالتی که کامل اورفیت شده هر داده یک ساپورت وکتور است</p>\n",
    "\n",
    "![image info](data/overfit.png)\n",
    "\n",
    "<p style=\"text-align:right;text-align:rtl\">در روش هارد مارجین این شرط وجود دارد که هیچ داده ای به اشتباه داخل کلاس دیگر نیفتد ولی در سافت مارجین با دادن یک مقدار هزینه اجازه بزرگتر شدن بوردر اطراف مارجین و احیانا به تعداد کمی دسته بندی اشتباه رضایت میدهیم در نتیجه همانطور که در شکل های زیر مشخص است در هارد مارجین تعداد ساپورت وکتور ها کمتر است ولی در سافت مارجین تعداد بیشتری داده وارد بوردر میشوند و در نتیجه تعداد ساپورت وکتور ها بیشتر است</p>\n",
    "\n",
    "\n",
    "<p style=\"text-align:right;text-align:rtl\">\n",
    "هنگامی که میان داده ها داده های پرتی وجود داشته باشد ،باعث سخت تر شدن شرایط و کاهش بسیار زیاد فاصله ی بین دو خط می شود یا اینکه اگر داده ها به گونه ای باشد که صرفا به خاطر آن چند داده ی پرت، امکان ارضای شرایط وجود نداشته باشد و حل مساله با یک خط غیر ممکن شود میتوان از سافت مارجین استفاده کرد به این شکل که امکان وجود مقدار کمی خطا در دسته بندی را فراهم کنیم(به عبارت دیگر شرایط را اندکی تغییر دهیم تا داده های پرت هم در آن صدق کنند)</p>\n",
    "\n",
    "\n",
    "<p style=\"text-align:right;text-align:rtl\">\n",
    "و الیته هنگامی که این مشکلات و داده های پرت وجود ندارند و دقت بیشر و عملکرد تا حد ممکن بالای الگوریتم در دسته بندی مورد تقاضا است، استفاده از هارد مارجین پیشنهاد میشود</p>\n",
    "\n",
    "\n",
    "#### <center><span style=\"color:PaleVioletRed\">soft margin : </span></center>\n",
    " \n",
    " ![image info](data/soft_margin.png)\n",
    " \n",
    " #### <center><span style=\"color:PaleVioletRed\">hard margin : </span></center>\n",
    " \n",
    ">![image info](data/hard_margin.png)"
   ]
  },
  {
   "cell_type": "markdown",
   "metadata": {},
   "source": [
    "### <center><span style=\"color:orange\">\" thanks for your attention \"</span></center>"
   ]
  },
  {
   "cell_type": "code",
   "execution_count": null,
   "metadata": {},
   "outputs": [],
   "source": []
  }
 ],
 "metadata": {
  "kernelspec": {
   "display_name": "Python 3",
   "language": "python",
   "name": "python3"
  },
  "language_info": {
   "codemirror_mode": {
    "name": "ipython",
    "version": 3
   },
   "file_extension": ".py",
   "mimetype": "text/x-python",
   "name": "python",
   "nbconvert_exporter": "python",
   "pygments_lexer": "ipython3",
   "version": "3.8.5"
  }
 },
 "nbformat": 4,
 "nbformat_minor": 4
}

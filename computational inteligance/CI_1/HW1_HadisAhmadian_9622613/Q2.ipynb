{
 "cells": [
  {
   "cell_type": "markdown",
   "metadata": {},
   "source": [
    "#### Question2:\n",
    "\n",
    "in this question we want to predict the price of house with a linear model, using MSE error function and GD.\n",
    "the only differnce is that we will use all feauters givven in the file.\n",
    "so we have 18 fetures and as explaind in past question we have a linear model.\n",
    "we set the learning rate alpha to 0.001\n",
    "the reading and storing data from file is similar to past question\n",
    "the initialization is random for each teta.\n",
    "at the end we want to calculate the best teta that can predict the price with minimum error.\n",
    "\n",
    "onr other important thing: in this question we used feature scaling"
   ]
  },
  {
   "cell_type": "code",
   "execution_count": 1,
   "metadata": {
    "scrolled": true
   },
   "outputs": [
    {
     "name": "stdout",
     "output_type": "stream",
     "text": [
      "21614\n"
     ]
    }
   ],
   "source": [
    "import csv\n",
    "import random\n",
    "teta=[]\n",
    "for i in range(0,19):\n",
    "    teta.append(random.random())\n",
    "temp=[0,0,0,0,0,0,0,0,0,0,0,0,0,0,0,0,0,0,0]\n",
    "mse_list=[]\n",
    "level=[]\n",
    "alpha=0.001\n",
    "tmp=[]\n",
    "theList_y=[]\n",
    "x=[]\n",
    "with open('kc_house_data.csv') as csv_file:\n",
    "    csv_reader = csv.reader(csv_file, delimiter=',')\n",
    "    line_count = 0\n",
    "    for row in csv_reader:\n",
    "        if line_count == 0:\n",
    "            line_count += 1\n",
    "        else:\n",
    "            theList_y.append(float(row[2]))\n",
    "            for i in range(18):\n",
    "                tmp.append(float(row[i+3]))\n",
    "            x.append(tmp)\n",
    "            tmp=[]\n",
    "            line_count += 1\n",
    "            \n",
    "    print(line_count)\n",
    "\n",
    "m=line_count-1"
   ]
  },
  {
   "cell_type": "markdown",
   "metadata": {},
   "source": [
    "this function calclulates the average of the list of one feature for all training data. we will use it for scaling."
   ]
  },
  {
   "cell_type": "code",
   "execution_count": 2,
   "metadata": {},
   "outputs": [],
   "source": [
    "def avg_fun(my_list):\n",
    "    return sum(my_list)/len(my_list)"
   ]
  },
  {
   "cell_type": "markdown",
   "metadata": {},
   "source": [
    "this part performs the feature scaling.it is used so that fetures with diffrent ranges scale to each other.\n",
    "the formula for each feature is :\n",
    "x=(x-avg)/range\n",
    "range=max(all x)-min(all x)"
   ]
  },
  {
   "cell_type": "code",
   "execution_count": 3,
   "metadata": {
    "scrolled": true
   },
   "outputs": [],
   "source": [
    "for j in range(18):\n",
    "    tmp=[]\n",
    "    for k in range(m):\n",
    "        tmp.append(x[k][j])\n",
    "    \n",
    "    avg=avg_fun(tmp)\n",
    "    my_range=max(tmp)-min(tmp)\n",
    "\n",
    "\n",
    "    for i in range(m):\n",
    "        x[i][j]=(x[i][j]-avg)/my_range\n",
    "\n"
   ]
  },
  {
   "cell_type": "markdown",
   "metadata": {},
   "source": [
    "h_functions explaind in past question"
   ]
  },
  {
   "cell_type": "code",
   "execution_count": 4,
   "metadata": {},
   "outputs": [],
   "source": [
    "def h_function(i):\n",
    "    h=0\n",
    "    for j in range(18):\n",
    "        h+=teta[j+1]*x[i][j]\n",
    "    return h+teta[0]"
   ]
  },
  {
   "cell_type": "markdown",
   "metadata": {},
   "source": [
    "teta_derivation explaind in past question\n",
    "there is only one diffrence about it in this question, for each itteration, when we want to calculate the derivations, we also calculate the MSE function error and save it in mse_list so in final part we can draw the diagram."
   ]
  },
  {
   "cell_type": "code",
   "execution_count": 5,
   "metadata": {},
   "outputs": [],
   "source": [
    "def teta_derivation(mode,mse_list):\n",
    "    sigma=0\n",
    "    MSE=0;\n",
    "    if(mode==0):\n",
    "        for i in range(m):\n",
    "            e=(h_function(i)-theList_y[i])\n",
    "            sigma+=e\n",
    "            MSE+=e*e\n",
    "            \n",
    "   \n",
    "    else:\n",
    "        for i in range(m):\n",
    "            sigma+=((h_function(i)-theList_y[i])*x[i][mode-1])\n",
    "    \n",
    "    if(mode==0):\n",
    "        mse_list.append((1.0/(2*m))*MSE)\n",
    "    \n",
    "    return sigma"
   ]
  },
  {
   "cell_type": "markdown",
   "metadata": {},
   "source": [
    "update function explained in past question"
   ]
  },
  {
   "cell_type": "code",
   "execution_count": 6,
   "metadata": {},
   "outputs": [],
   "source": [
    "def update(mode):\n",
    "        return teta[mode]-(alpha*(1.0/m)*teta_derivation(mode,mse_list))\n",
    "\n",
    "\n",
    "    "
   ]
  },
  {
   "cell_type": "markdown",
   "metadata": {},
   "source": [
    "this is our gradiant descent function that performs update for 5000 iterations to update teta values for best results until convergence.\n",
    "more explained in last question.\n",
    "as explained before, in this question we save MSE error per each itteration, so I have a list called \"level\", and I save the number of iteration levels in it, in next parts I use it to draw the diagam. "
   ]
  },
  {
   "cell_type": "code",
   "execution_count": 12,
   "metadata": {
    "scrolled": false
   },
   "outputs": [],
   "source": [
    "index=0\n",
    "for i in range(5000):\n",
    "    for j in range (19):\n",
    "        temp[j]=update(j)  \n",
    "\n",
    "\n",
    "    j=0\n",
    "    for j in range (19):\n",
    "        teta[j]=temp[j]\n",
    "    \n",
    "    level.append(index)\n",
    "    index+=1\n",
    "        \n",
    "\n",
    "\n"
   ]
  },
  {
   "cell_type": "markdown",
   "metadata": {},
   "source": [
    "you can see the final results that GD calculated : "
   ]
  },
  {
   "cell_type": "code",
   "execution_count": 13,
   "metadata": {},
   "outputs": [
    {
     "name": "stdout",
     "output_type": "stream",
     "text": [
      "------------------\n",
      "536494.290701\n",
      "13918.6302597\n",
      "80255.7549339\n",
      "79405.6659477\n",
      "3673.95914015\n",
      "80045.6953853\n",
      "38480.6862088\n",
      "121179.629312\n",
      "14344.300716\n",
      "105981.046471\n",
      "88781.9832287\n",
      "50297.3929357\n",
      "9218.84072309\n",
      "40262.3390679\n",
      "-20100.1628954\n",
      "110380.828988\n",
      "767.428892742\n",
      "111048.631336\n",
      "4114.91733774\n",
      "------------------\n"
     ]
    }
   ],
   "source": [
    "j=0\n",
    "print(\"------------------\")\n",
    "for j in range (19):\n",
    "    print(teta[j])\n",
    "print(\"------------------\")"
   ]
  },
  {
   "cell_type": "markdown",
   "metadata": {},
   "source": [
    "here we draw the diagram of MSE error function per each level, using mse_list and level list that we saved before.\n",
    "we can see that the error decreases per each level, at first it has a faster rate and by each iteration, the rate of decreasing slows down."
   ]
  },
  {
   "cell_type": "code",
   "execution_count": 14,
   "metadata": {},
   "outputs": [
    {
     "data": {
      "image/png": "[encoded data removed]",
      "text/plain": [
       "<Figure size 432x288 with 1 Axes>"
      ]
     },
     "metadata": {
      "needs_background": "light"
     },
     "output_type": "display_data"
    }
   ],
   "source": [
    "import matplotlib.pyplot as plt\n",
    "import numpy as np  \n",
    "\n",
    "plt.plot(level,mse_list,color='blue')\n",
    "\n",
    "plt.show()"
   ]
  }
 ],
 "metadata": {
  "kernelspec": {
   "display_name": "Python 3",
   "language": "python",
   "name": "python3"
  },
  "language_info": {
   "codemirror_mode": {
    "name": "ipython",
    "version": 2
   },
   "file_extension": ".py",
   "mimetype": "text/x-python",
   "name": "python",
   "nbconvert_exporter": "python",
   "pygments_lexer": "ipython2",
   "version": "2.7.17"
  }
 },
 "nbformat": 4,
 "nbformat_minor": 2
}

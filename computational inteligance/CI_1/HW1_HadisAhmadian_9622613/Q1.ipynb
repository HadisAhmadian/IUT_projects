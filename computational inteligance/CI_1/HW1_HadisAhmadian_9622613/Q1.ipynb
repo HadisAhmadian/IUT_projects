{
 "cells": [
  {
   "cell_type": "markdown",
   "metadata": {},
   "source": [
    "#### Question 1:\n",
    "\n",
    "in this question I used MSE error function and GD algorithm to solve a linear regresion problem.\n",
    "\n",
    "in first part by using csv library I simply open and read data of the file and store them in variables. the data we need in this question is the price of the house and the sqft_living. I stored them in variables theList_y and theList_x and we want to find a line that describes the relationship between the price and sqft_living as good as possible, using linear regretion.\n",
    "we consider the equation of this line as:\n",
    "teta0+(teta1*x)=y\n",
    "so actually what we need to do is finding best values for teta0 and teta1.\n",
    "\n",
    "the method I used for initializing them is to assign a random number between 0 and 1 to each of them. in next parts we will use other methods too.\n",
    "\n",
    "we also have to set a learning rate (alpha parameter), after some testing, I found out 5e-10 is a good rate.\n",
    "\n",
    "the m variable is saving the count of our training data."
   ]
  },
  {
   "cell_type": "code",
   "execution_count": 1,
   "metadata": {
    "scrolled": true
   },
   "outputs": [
    {
     "name": "stdout",
     "output_type": "stream",
     "text": [
      "21614\n"
     ]
    }
   ],
   "source": [
    "import csv\n",
    "import random\n",
    "teta0=random.random()\n",
    "teta1=random.random()\n",
    "temp0=temp1=0\n",
    "alpha=5e-10\n",
    "theList_x=[]\n",
    "theList_y=[]\n",
    "\n",
    "with open('kc_house_data.csv') as csv_file:\n",
    "    csv_reader = csv.reader(csv_file, delimiter=',')\n",
    "    line_count = 0\n",
    "    for row in csv_reader:\n",
    "        if line_count == 0:\n",
    "            line_count += 1\n",
    "        else:\n",
    "            theList_y.append(float(row[2]))\n",
    "            theList_x.append(float(row[5]))\n",
    "            line_count += 1\n",
    "            \n",
    "    print(line_count)\n",
    "m=len(theList_x)\n"
   ]
  },
  {
   "cell_type": "markdown",
   "metadata": {},
   "source": [
    "the h function :\n",
    "this is the function that calculates the value of the linear model for each training data. then in other functions we will use this value to calcute error and try to minimize error by setting teta values."
   ]
  },
  {
   "cell_type": "code",
   "execution_count": 2,
   "metadata": {},
   "outputs": [],
   "source": [
    "def h_function(xi):\n",
    "    return teta0+teta1*xi"
   ]
  },
  {
   "cell_type": "markdown",
   "metadata": {},
   "source": [
    "this function calculates : dj(teta)/dtata0 \n",
    "\n",
    "this is going to be used for updating teta0"
   ]
  },
  {
   "cell_type": "code",
   "execution_count": 3,
   "metadata": {},
   "outputs": [],
   "source": [
    "def teta0_derivation():\n",
    "    sigma0=0\n",
    "    for i in range(m):\n",
    "        sigma0+=(h_function(theList_x[i])-theList_y[i])\n",
    "    return sigma0"
   ]
  },
  {
   "cell_type": "markdown",
   "metadata": {},
   "source": [
    "this function calculates : dj(teta)/dtata1 \n",
    "\n",
    "this is going to be used for updating teta1"
   ]
  },
  {
   "cell_type": "code",
   "execution_count": 4,
   "metadata": {},
   "outputs": [],
   "source": [
    "def teta1_derivation():\n",
    "    sigma1=0\n",
    "    for i in range(m):\n",
    "        sigma1+=((h_function(theList_x[i])-theList_y[i])*theList_x[i])\n",
    "    return sigma1"
   ]
  },
  {
   "cell_type": "markdown",
   "metadata": {},
   "source": [
    "thi is my update function, it updates teta0 and teta1 using derivations that where calculated above. the general formula for updationg teta is:\n",
    "tata=teta-alpha*(1/m)*dj(teta)/dteta that for our problem, j(teta) is MSE function that calculates the error of the price that our h_function predicted."
   ]
  },
  {
   "cell_type": "code",
   "execution_count": 5,
   "metadata": {},
   "outputs": [],
   "source": [
    "def update(mode):\n",
    "    if(mode==0):\n",
    "        return teta0-(alpha*(1.0/m)*teta0_derivation())\n",
    "    else :\n",
    "        return teta1-(alpha*(1.0/m)*teta1_derivation())\n",
    "\n",
    "    "
   ]
  },
  {
   "cell_type": "markdown",
   "metadata": {},
   "source": [
    "in bellow, we perform GD algorithm with 5000 iterations.\n",
    "it means that it calls update function and update teta valaues until an accaptable convergence so that our linear model can predict the price based on sqft_living, as best as it can."
   ]
  },
  {
   "cell_type": "code",
   "execution_count": 6,
   "metadata": {
    "scrolled": true
   },
   "outputs": [
    {
     "name": "stdout",
     "output_type": "stream",
     "text": [
      "0.142255239101\n",
      "263.088501856\n"
     ]
    }
   ],
   "source": [
    "for j in range(5000):\n",
    "    temp0=update(0)\n",
    "    temp1=update(1)\n",
    "    teta0=temp0\n",
    "    teta1=temp1\n",
    "    \n",
    "print(teta0)\n",
    "print(teta1)\n",
    "    \n"
   ]
  },
  {
   "cell_type": "markdown",
   "metadata": {},
   "source": [
    "as you can see, the teta values are calculated and now we drow the graph of training data and our linear model to see how good it could perform! \n"
   ]
  },
  {
   "cell_type": "code",
   "execution_count": 12,
   "metadata": {},
   "outputs": [
    {
     "data": {
      "image/png": "[encoded data removed]",
      "text/plain": [
       "<Figure size 432x288 with 1 Axes>"
      ]
     },
     "metadata": {
      "needs_background": "light"
     },
     "output_type": "display_data"
    }
   ],
   "source": [
    "import matplotlib.pyplot as plt\n",
    "import numpy as np  \n",
    "axes = plt.gca()\n",
    "x_vals = np.array(theList_x)\n",
    "y_vals = teta0 + teta1 * x_vals\n",
    "plt.plot(x_vals, y_vals,color='red')\n",
    "plt.scatter(theList_x,theList_y,color='green')\n",
    "\n",
    "plt.show()"
   ]
  },
  {
   "cell_type": "markdown",
   "metadata": {},
   "source": [
    "we saw the performance of our algorithm with random initialization in above parts.\n",
    "now let's test a new form of initializaton. we set every teta with the same value 0 to see if it has better or worse effect on our algorithm."
   ]
  },
  {
   "cell_type": "code",
   "execution_count": 13,
   "metadata": {},
   "outputs": [],
   "source": [
    "teta0=0\n",
    "teta1=0\n",
    "temp0=temp1=0"
   ]
  },
  {
   "cell_type": "code",
   "execution_count": 14,
   "metadata": {},
   "outputs": [
    {
     "name": "stdout",
     "output_type": "stream",
     "text": [
      "-0.0719229815861\n",
      "263.089217822\n"
     ]
    }
   ],
   "source": [
    "for j in range(5000):\n",
    "    temp0=update(0)\n",
    "    temp1=update(1)\n",
    "    teta0=temp0\n",
    "    teta1=temp1\n",
    "    \n",
    "print(teta0)\n",
    "print(teta1)"
   ]
  },
  {
   "cell_type": "code",
   "execution_count": 16,
   "metadata": {},
   "outputs": [
    {
     "data": {
      "image/png": "[encoded data removed]",
      "text/plain": [
       "<Figure size 432x288 with 1 Axes>"
      ]
     },
     "metadata": {
      "needs_background": "light"
     },
     "output_type": "display_data"
    }
   ],
   "source": [
    "import matplotlib.pyplot as plt\n",
    "import numpy as np  \n",
    "axes = plt.gca()\n",
    "x_vals = np.array(theList_x)\n",
    "y_vals = teta0 + teta1 * x_vals\n",
    "plt.plot(x_vals, y_vals,color='red')\n",
    "plt.scatter(theList_x,theList_y,color='green')\n",
    "\n",
    "plt.show()"
   ]
  },
  {
   "cell_type": "markdown",
   "metadata": {},
   "source": [
    "in our case we can we can't see much diffrence between these two methods(only a little diffrence in final callculated values) of initialization becase our model is not very complex and it only has two features but in general if we set all of our teta parameters to zero,it is a very bad method! specially in large and complex models, becuse it cuses the data to update very very slowly and in a very large number of first itteration the state of model won't change very much.\n",
    "\n",
    "in conclusion we can say that the best and mostly used method to initialize is random initialization."
   ]
  }
 ],
 "metadata": {
  "kernelspec": {
   "display_name": "Python 3",
   "language": "python",
   "name": "python3"
  },
  "language_info": {
   "codemirror_mode": {
    "name": "ipython",
    "version": 2
   },
   "file_extension": ".py",
   "mimetype": "text/x-python",
   "name": "python",
   "nbconvert_exporter": "python",
   "pygments_lexer": "ipython2",
   "version": "2.7.17"
  }
 },
 "nbformat": 4,
 "nbformat_minor": 2
}

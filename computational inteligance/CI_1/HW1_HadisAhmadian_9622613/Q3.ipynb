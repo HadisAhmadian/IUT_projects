{
 "cells": [
  {
   "cell_type": "markdown",
   "metadata": {},
   "source": [
    "#### Question3:\n",
    "\n",
    "in this question we have to decide if a micro is accepted or rejected based on two test results.\n",
    "we consider thos two test results as two features, I opend the file and read the results of test and saved them as two features in lists f1 and f2, I also have a list group that saves each micro wasaccepted or rejected. I will use them to run my algorithm later.\n",
    "I also have two set of lisits x0 , y0 and x1 , y1. they store the results of test in seperate lists, if the micro was accepted its features will be saved in x1,y1 and if rejected its fetures will be saved in x0,y0. I use these lisits to draw diagram of data of each group in diffrent colors.\n",
    "I have set a learing rate alpha to 0.05\n",
    "m is the count of the training data.\n",
    "after drawing the diagram I'll explain why I used 5 tetas for my model.but now I'll just say that I initialized them randomly."
   ]
  },
  {
   "cell_type": "code",
   "execution_count": 2,
   "metadata": {},
   "outputs": [
    {
     "name": "stdout",
     "output_type": "stream",
     "text": [
      "0.05\n"
     ]
    }
   ],
   "source": [
    "import random\n",
    "x0=[]\n",
    "y0=[]\n",
    "x1=[]\n",
    "y1=[]\n",
    "f1=[]\n",
    "f2=[]\n",
    "alpha=0.05\n",
    "teta0=random.random()\n",
    "teta1=random.random()\n",
    "teta2=random.random()\n",
    "teta3=random.random()\n",
    "teta4=random.random()\n",
    "\n",
    "\n",
    "temp0=temp1=temp2=temp3=temp4=0\n",
    "\n",
    "group=[]\n",
    "m=0\n",
    "\n",
    "with open('micro_test_data.txt') as file:\n",
    "    for line in file:\n",
    "        data=line.split(',')\n",
    "        \n",
    "        f1.append(float(data[0]))\n",
    "        f2.append(float(data[1]))\n",
    "        group.append(int(data[2]))\n",
    "        m+=1\n",
    "        \n",
    "        if(int(data[2])==1):\n",
    "            x1.append(float(data[0]))\n",
    "            y1.append(float(data[1]))\n",
    "\n",
    "        else:\n",
    "            x0.append(float(data[0]))\n",
    "            y0.append(float(data[1]))\n",
    "            \n",
    "print(alpha)\n"
   ]
  },
  {
   "cell_type": "markdown",
   "metadata": {},
   "source": [
    "the below function is written to reset the values. it will be used in next parts. "
   ]
  },
  {
   "cell_type": "code",
   "execution_count": 3,
   "metadata": {},
   "outputs": [],
   "source": [
    "def reset_data():\n",
    "    alpha=0.05\n",
    "    teta0=random.random()\n",
    "    teta1=random.random()\n",
    "    teta2=random.random()\n",
    "    teta3=random.random()\n",
    "    teta4=random.random()\n",
    "\n",
    "    temp0=temp1=temp2=temp3=temp4=0\n",
    "\n",
    "    del output[:]"
   ]
  },
  {
   "cell_type": "markdown",
   "metadata": {},
   "source": [
    "in this part I drew the diagram of data based on two features, the pink data are those wich are accepted by tests and the yellow ones are rejected micros.\n",
    "we can see that it's impossible to seperate them with just a line so we have to use feature mapping, as we can see the border to seperate data is almost like an oval so the feature mapping that I'll use will be the model bellow:\n",
    "f1-->feature1\n",
    "f2-->feture2\n",
    "model : teta0+(teta1*f1)+(teta2*f2)+(teta3*f1*f1)+(teta4*f2*f2)\n",
    "you see that we created two other features f1*f1 and f2*f2\n",
    "what we are going to do is to set teta valuse so that the model can seperate the micros in two accepted and rejected groups as best at it can."
   ]
  },
  {
   "cell_type": "code",
   "execution_count": 5,
   "metadata": {},
   "outputs": [
    {
     "data": {
      "image/png": "[encoded data removed]",
      "text/plain": [
       "<Figure size 432x288 with 1 Axes>"
      ]
     },
     "metadata": {
      "needs_background": "light"
     },
     "output_type": "display_data"
    }
   ],
   "source": [
    "import matplotlib.pyplot as plt\n",
    "import numpy as np  \n",
    "plt.scatter(x1,y1,color='pink')\n",
    "plt.scatter(x0,y0,color='yellow')\n",
    "\n",
    "plt.show()"
   ]
  },
  {
   "cell_type": "markdown",
   "metadata": {},
   "source": [
    "this is implementation of sigmoid function wich we are going to use as our activation function"
   ]
  },
  {
   "cell_type": "code",
   "execution_count": 6,
   "metadata": {},
   "outputs": [],
   "source": [
    "import math\n",
    "def sigmoid(a):\n",
    "    return 1/(1+math.exp(-a))"
   ]
  },
  {
   "cell_type": "markdown",
   "metadata": {},
   "source": [
    "this is the z function that we are going to use in our h function"
   ]
  },
  {
   "cell_type": "code",
   "execution_count": 7,
   "metadata": {},
   "outputs": [],
   "source": [
    "def z(i):\n",
    "    return teta0+(teta1*f1[i])+(teta2*f2[i])+(teta3*(f1[i]*f1[i]))+(teta4*(f2[i]*f2[i]))"
   ]
  },
  {
   "cell_type": "markdown",
   "metadata": {},
   "source": [
    "this is h function that calculates the probability of belonging of a micro to a group for each training data.\n",
    "h = sigmoid(z)"
   ]
  },
  {
   "cell_type": "code",
   "execution_count": 8,
   "metadata": {},
   "outputs": [],
   "source": [
    "def h(i):\n",
    "    return sigmoid(z(i))"
   ]
  },
  {
   "cell_type": "markdown",
   "metadata": {},
   "source": [
    "this is our update function it calculates the derivation of each teta based on our error function wich is Cross Enthropy. it also uses a landa parameter as regularization coeffitient, later, we will use diffrent values for this in next parts to see the effect on the output."
   ]
  },
  {
   "cell_type": "code",
   "execution_count": 9,
   "metadata": {},
   "outputs": [],
   "source": [
    "def update(number,lnada):\n",
    "    if(number==0):\n",
    "        sigma=0\n",
    "        for i in range(m):\n",
    "            sigma+=h(i)-group[i]\n",
    "        return sigma\n",
    "    \n",
    "    elif(number==1):\n",
    "        sigma=0\n",
    "        for i in range(m):\n",
    "            sigma+=(h(i)-group[i])*f1[i]\n",
    "        return sigma+(landa*teta1)\n",
    "    \n",
    "    elif(number==2):\n",
    "        sigma=0\n",
    "        for i in range(m):\n",
    "            sigma+=(h(i)-group[i])*f2[i]\n",
    "        return sigma+(landa*teta2)\n",
    "    \n",
    "    elif(number==3):\n",
    "        sigma=0\n",
    "        for i in range(m):\n",
    "            sigma+=(h(i)-group[i])*f1[i]*f1[i]\n",
    "        return sigma+(landa*teta3)\n",
    "    \n",
    "    elif(number==4):\n",
    "        sigma=0\n",
    "        for i in range(m):\n",
    "            sigma+=(h(i)-group[i])*f2[i]*f2[i]\n",
    "        return sigma+(landa*teta4)\n",
    "\n",
    "\n",
    "\n",
    "\n",
    "\n",
    "    "
   ]
  },
  {
   "cell_type": "markdown",
   "metadata": {},
   "source": [
    "the code bellow, performs GD it updates teta for 5000 iteratons.\n",
    "it means that it calls update function and update teta valaues until an accaptable convergence so that our  model can decide wich micro should be accepted or rejected as best as it can.\n",
    "in our first try we set landa to 0, it means we wont have regularization."
   ]
  },
  {
   "cell_type": "code",
   "execution_count": 10,
   "metadata": {
    "scrolled": true
   },
   "outputs": [
    {
     "name": "stdout",
     "output_type": "stream",
     "text": [
      "2.14529038619\n",
      "0.644505098774\n",
      "1.2008531523\n",
      "-4.8969465552\n",
      "-4.23692199356\n"
     ]
    }
   ],
   "source": [
    "landa=0\n",
    "for i in range(5000):\n",
    "    sigma=update(0,landa)\n",
    "    temp0=teta0-alpha*((1.0/float(m))*sigma)\n",
    "    sigma=update(1,landa)\n",
    "    temp1=teta1-alpha*((1.0/float(m))*sigma)\n",
    "    sigma=update(2,landa)\n",
    "    temp2=teta2-alpha*((1.0/float(m))*sigma)\n",
    "    sigma=update(3,landa)\n",
    "    temp3=teta3-alpha*((1.0/float(m))*sigma)\n",
    "    sigma=update(4,landa)\n",
    "    temp4=teta4-alpha*((1.0/float(m))*sigma)\n",
    "\n",
    "    teta0=temp0\n",
    "    teta1=temp1\n",
    "    teta2=temp2\n",
    "    teta3=temp3\n",
    "    teta4=temp4\n",
    "    \n",
    "print(teta0)\n",
    "print(teta1)\n",
    "print(teta2)\n",
    "print(teta3)\n",
    "print(teta4)"
   ]
  },
  {
   "cell_type": "markdown",
   "metadata": {},
   "source": [
    "we see that our algorithm calculates the tata values. now based on our model we go trough our data and see if our model can seperate the micros from each other. fo this means based on our model and teta values calculated we seperate data like this :\n",
    "h(i)>0.5 --> accaptable\n",
    "h(i)<0.5 --> reject\n",
    "I save my model decision in two set of lists :x_temp0,y_temp0 and x_temp1,y_temp1 to draw them later"
   ]
  },
  {
   "cell_type": "code",
   "execution_count": 11,
   "metadata": {},
   "outputs": [],
   "source": [
    "output=[]\n",
    "for i in range(m):\n",
    "    if (h(i)>0.5):\n",
    "        output.append(1)\n",
    "    else:\n",
    "        output.append(0)\n",
    "\n",
    "x_tmp0=[]\n",
    "x_tmp1=[]\n",
    "y_tmp0=[]\n",
    "y_tmp1=[]\n",
    "        \n",
    "for i in range(m):\n",
    "    if(output[i]==1):\n",
    "        x_tmp1.append(f1[i])\n",
    "        y_tmp1.append(f2[i])\n",
    "    else:\n",
    "        x_tmp0.append(f1[i])\n",
    "        y_tmp0.append(f2[i])"
   ]
  },
  {
   "cell_type": "markdown",
   "metadata": {},
   "source": [
    "finally! we draw our model desicion for seperating the micros.\n",
    "this one is without regularization. we can see that the model could seperate them almost perfectly (compare the diagram of results to the diagram of reall data)"
   ]
  },
  {
   "cell_type": "code",
   "execution_count": 12,
   "metadata": {},
   "outputs": [
    {
     "data": {
      "image/png": "[encoded data removed]",
      "text/plain": [
       "<Figure size 432x288 with 1 Axes>"
      ]
     },
     "metadata": {
      "needs_background": "light"
     },
     "output_type": "display_data"
    }
   ],
   "source": [
    "import matplotlib.pyplot as plt\n",
    "import numpy as np  \n",
    "plt.scatter(x_tmp1,y_tmp1,color='pink')\n",
    "plt.scatter(x_tmp0,y_tmp0,color='yellow')\n",
    "\n",
    "plt.show()"
   ]
  },
  {
   "cell_type": "markdown",
   "metadata": {},
   "source": [
    "now, it's time to test regularization! we reset our past calculations and we set the landa(regularizarion parameter) to a larger value and reperform the GD algorithm.\n",
    "it will try to decrease the model complexity and the teta values get closer to 0."
   ]
  },
  {
   "cell_type": "code",
   "execution_count": 16,
   "metadata": {},
   "outputs": [
    {
     "name": "stdout",
     "output_type": "stream",
     "text": [
      "0.196646538653\n",
      "-0.0847968956532\n",
      "0.0464729383131\n",
      "-0.493719040923\n",
      "-0.37334063425\n"
     ]
    }
   ],
   "source": [
    "reset_data()\n",
    "landa=10\n",
    "for i in range(5000):\n",
    "    sigma=update(0,landa)\n",
    "    temp0=teta0-alpha*((1.0/float(m))*sigma)\n",
    "    sigma=update(1,landa)\n",
    "    temp1=teta1-alpha*((1.0/float(m))*sigma)\n",
    "    sigma=update(2,landa)\n",
    "    temp2=teta2-alpha*((1.0/float(m))*sigma)\n",
    "    sigma=update(3,landa)\n",
    "    temp3=teta3-alpha*((1.0/float(m))*sigma)\n",
    "    sigma=update(4,landa)\n",
    "    temp4=teta4-alpha*((1.0/float(m))*sigma)\n",
    "\n",
    "    teta0=temp0\n",
    "    teta1=temp1\n",
    "    teta2=temp2\n",
    "    teta3=temp3\n",
    "    teta4=temp4\n",
    "    \n",
    "print(teta0)\n",
    "print(teta1)\n",
    "print(teta2)\n",
    "print(teta3)\n",
    "print(teta4)"
   ]
  },
  {
   "cell_type": "markdown",
   "metadata": {},
   "source": [
    "again, based on our model we go trough our data and see if our model can seperate the micros from each other. fo this means based on our model and teta values calculated we seperate data like this :\n",
    "h(i)>0.5 --> accaptable\n",
    "h(i)<0.5 --> reject\n",
    "I save my model decision in two set of lists :x_temp0,y_temp0 and x_temp1,y_temp1 to draw them later.\n",
    "this time we used regulariaztion with a large landa parameter."
   ]
  },
  {
   "cell_type": "code",
   "execution_count": 17,
   "metadata": {},
   "outputs": [],
   "source": [
    "del output[:]\n",
    "for i in range(m):\n",
    "    if (h(i)>0.5):\n",
    "        output.append(1)\n",
    "    else:\n",
    "        output.append(0)\n",
    "\n",
    "x_tmp0=[]\n",
    "x_tmp1=[]\n",
    "y_tmp0=[]\n",
    "y_tmp1=[]\n",
    "        \n",
    "for i in range(m):\n",
    "    if(output[i]==1):\n",
    "        x_tmp1.append(f1[i])\n",
    "        y_tmp1.append(f2[i])\n",
    "    else:\n",
    "        x_tmp0.append(f1[i])\n",
    "        y_tmp0.append(f2[i])"
   ]
  },
  {
   "cell_type": "markdown",
   "metadata": {},
   "source": [
    "now we draw the results!\n",
    "we can see with regularization the complexity of model will decrease and teta values get closer to 0.\n",
    "it is obvious that the accuracy of our model is lower with regularization. we explain the conclution in next parts."
   ]
  },
  {
   "cell_type": "code",
   "execution_count": 18,
   "metadata": {},
   "outputs": [
    {
     "data": {
      "image/png": "[encoded data removed]",
      "text/plain": [
       "<Figure size 432x288 with 1 Axes>"
      ]
     },
     "metadata": {
      "needs_background": "light"
     },
     "output_type": "display_data"
    }
   ],
   "source": [
    "import matplotlib.pyplot as plt\n",
    "import numpy as np  \n",
    "plt.scatter(x_tmp1,y_tmp1,color='pink')\n",
    "plt.scatter(x_tmp0,y_tmp0,color='yellow')\n",
    "\n",
    "plt.show()"
   ]
  },
  {
   "cell_type": "markdown",
   "metadata": {},
   "source": [
    "CONCLUSION :\n",
    "if we use a complex model that can seperate our test data perfectly, everythin seems good, but we have a problem! our model can be overfitted, it means that for we added so much complexiy to model to cover special cases in our train data that the model might not perform so good with test data. with regularization we try to decrease the complexity of our model with removing unneeded features.\n",
    "\n",
    "in the other hand, if we set a very high regularization parameter, the comlexity of model will decrease too much, it means that out model will ignor many of its features and it causes bad performance, not only in test data but also in train data, in this case we say our model is underfit.\n",
    "\n",
    "so we should try to find a proper regularization parameter for our problems so we can have a just right model, it means not underfitted or overfitted."
   ]
  }
 ],
 "metadata": {
  "kernelspec": {
   "display_name": "Python 3",
   "language": "python",
   "name": "python3"
  },
  "language_info": {
   "codemirror_mode": {
    "name": "ipython",
    "version": 2
   },
   "file_extension": ".py",
   "mimetype": "text/x-python",
   "name": "python",
   "nbconvert_exporter": "python",
   "pygments_lexer": "ipython2",
   "version": "2.7.17"
  }
 },
 "nbformat": 4,
 "nbformat_minor": 2
}
